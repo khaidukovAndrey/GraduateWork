{
 "cells": [
  {
   "cell_type": "code",
   "execution_count": 1,
   "id": "583f8800-72b9-43c9-9ae3-b01ef77bdeec",
   "metadata": {},
   "outputs": [],
   "source": [
    "import torch"
   ]
  },
  {
   "cell_type": "code",
   "execution_count": 2,
   "id": "6a9de537-8103-4205-ba10-3a554ae74f9b",
   "metadata": {},
   "outputs": [],
   "source": [
    "x=torch.randn([1,100,3])\n",
    "target = torch.randn([1,100,64])"
   ]
  },
  {
   "cell_type": "code",
   "execution_count": 3,
   "id": "3189c681-1e39-4b0b-8aa9-f6ef095a0188",
   "metadata": {},
   "outputs": [],
   "source": [
    "class Net(torch.nn.Module):\n",
    "    def __init__(self):\n",
    "        super(Net, self).__init__()\n",
    "        self.fc1 = torch.nn.Linear(3,64)\n",
    "    def forward(self,x):\n",
    "        x = self.fc1(x)\n",
    "        return x"
   ]
  },
  {
   "cell_type": "code",
   "execution_count": 4,
   "id": "dcb3bd17-cf82-42aa-ad6f-a50e2c6c0300",
   "metadata": {},
   "outputs": [
    {
     "data": {
      "text/plain": [
       "tensor([[[ 0.1437, -0.3419,  1.0422,  ...,  0.2165,  0.5962, -0.3876],\n",
       "         [-0.2525,  0.8552, -0.3271,  ..., -0.6033,  0.3307, -0.0219],\n",
       "         [ 0.0748,  0.5285,  0.3212,  ...,  0.0926, -0.0130, -0.1444],\n",
       "         ...,\n",
       "         [-0.2657,  0.7599, -0.7389,  ..., -0.4697,  0.6226, -0.2704],\n",
       "         [ 0.1819, -0.2613,  1.3494,  ...,  0.1883,  0.3280, -0.2164],\n",
       "         [-0.2993,  1.4339, -0.4537,  ..., -0.8134, -0.2139,  0.3106]]],\n",
       "       grad_fn=<ViewBackward0>)"
      ]
     },
     "execution_count": 4,
     "metadata": {},
     "output_type": "execute_result"
    }
   ],
   "source": [
    "model =Net()\n",
    "model(x)"
   ]
  },
  {
   "cell_type": "code",
   "execution_count": 5,
   "id": "26879fa0-9862-4499-b9e7-1d9041a62da4",
   "metadata": {},
   "outputs": [],
   "source": [
    "criterion = torch.nn.MSELoss()"
   ]
  },
  {
   "cell_type": "code",
   "execution_count": 6,
   "id": "586381e8-dce2-485f-928d-b5c8a97e7e0b",
   "metadata": {},
   "outputs": [],
   "source": [
    "optimizer = torch.optim.SGD(model.parameters(), lr=0.0003)"
   ]
  },
  {
   "cell_type": "code",
   "execution_count": 7,
   "id": "0c020599-e343-49ea-a4ae-4e374abb055c",
   "metadata": {},
   "outputs": [
    {
     "name": "stdout",
     "output_type": "stream",
     "text": [
      "Epoch:  0 Loss:  1.444907546043396\n",
      "Epoch:  1 Loss:  1.4448978900909424\n",
      "Epoch:  2 Loss:  1.4448788166046143\n",
      "Epoch:  3 Loss:  1.444850206375122\n",
      "Epoch:  4 Loss:  1.4448117017745972\n",
      "Epoch:  5 Loss:  1.4447638988494873\n",
      "Epoch:  6 Loss:  1.4447064399719238\n",
      "Epoch:  7 Loss:  1.4446393251419067\n",
      "Epoch:  8 Loss:  1.4445626735687256\n",
      "Epoch:  9 Loss:  1.44447660446167\n"
     ]
    }
   ],
   "source": [
    "for epoch in range(10):\n",
    "    output = model(x)\n",
    "    loss = criterion(output, target)\n",
    "    print('Epoch: ', epoch, 'Loss: ', loss.item())\n",
    "    loss.backward()\n",
    "    optimizer.step()"
   ]
  },
  {
   "cell_type": "code",
   "execution_count": null,
   "id": "7fe10767-545d-4279-98d6-469a80c9cf75",
   "metadata": {},
   "outputs": [],
   "source": []
  }
 ],
 "metadata": {
  "kernelspec": {
   "display_name": "Python 3 (ipykernel)",
   "language": "python",
   "name": "python3"
  },
  "language_info": {
   "codemirror_mode": {
    "name": "ipython",
    "version": 3
   },
   "file_extension": ".py",
   "mimetype": "text/x-python",
   "name": "python",
   "nbconvert_exporter": "python",
   "pygments_lexer": "ipython3",
   "version": "3.8.18"
  }
 },
 "nbformat": 4,
 "nbformat_minor": 5
}
